{
 "cells": [
  {
   "cell_type": "code",
   "execution_count": 495,
   "id": "809150d2-0995-4c6a-ae77-4064f3c6c60c",
   "metadata": {},
   "outputs": [],
   "source": [
    "import os\n",
    "\n",
    "import numpy as np\n",
    "import matplotlib.pyplot as plt\n",
    "from torch.utils.data import Dataset, DataLoader\n",
    "\n",
    "import torch\n",
    "import torch.nn as nn\n",
    "import einops\n",
    "\n",
    "from tqdm import tqdm\n",
    "import queue, collections\n",
    "from torch.autograd import Variable\n",
    "# import pywt\n",
    "from sklearn.metrics import precision_recall_curve"
   ]
  },
  {
   "cell_type": "code",
   "execution_count": 496,
   "id": "4a78ee5e-1ca6-48d3-a58e-6f7d6f63699a",
   "metadata": {},
   "outputs": [],
   "source": [
    "os.environ['CUDA_VISIBLE_DEVICES'] = '1'\n",
    "torch.set_default_tensor_type('torch.cuda.DoubleTensor')"
   ]
  },
  {
   "cell_type": "code",
   "execution_count": 497,
   "id": "d21728a6-7b74-46e2-b913-d9c5ce4ab8e1",
   "metadata": {},
   "outputs": [],
   "source": [
    "def metrics(y_true, y_hat, n_classes):\n",
    "    y_true_onehot = np.zeros((y_true.shape[0], n_classes))\n",
    "    y_true_onehot[np.arange(y_true.shape[0]), y_true] = 1\n",
    "    \n",
    "    y_hat_onehot = np.zeros((y_hat.shape[0], n_classes))\n",
    "    y_hat_onehot[np.arange(y_hat.shape[0]), y_hat] = 1\n",
    "    w = [np.mean(y_true==i) for i in range(n_classes)]\n",
    "\n",
    "    accuracy = np.mean(y_true == y_hat)\n",
    "    precision = dict()\n",
    "    recall = dict()\n",
    "    for i in range(n_classes):\n",
    "        precision[i], recall[i], _ = precision_recall_curve(y_true_onehot[:, i], y_hat_onehot[:, i])\n",
    "\n",
    "    Fw, Fm = 0, 0\n",
    "    for i in range(n_classes):\n",
    "        prec = precision[i][1]\n",
    "        rec = recall[i][1]\n",
    "        Fw += 2 * w[i] * (prec * rec) / (prec + rec)\n",
    "        Fm += 2 * (prec * rec) / (prec + rec) / n_classes\n",
    "    return Fw, Fm, accuracy"
   ]
  },
  {
   "cell_type": "code",
   "execution_count": 498,
   "id": "aa554723-faed-4f75-aebe-11cde2ce13d6",
   "metadata": {},
   "outputs": [],
   "source": [
    "class TimeSeriesDataset(Dataset):\n",
    "    def __init__(self, samples, labels, transforms=None):\n",
    "        self.samples = samples\n",
    "        self.labels = labels\n",
    "        self.transforms = transforms\n",
    "\n",
    "    def __getitem__(self, index):\n",
    "        sample, target = self.samples[index], self.labels[index]\n",
    "        if self.transforms is not None:\n",
    "            sample = self.transforms(sample)\n",
    "        return sample, target\n",
    "\n",
    "    def __len__(self):\n",
    "        return len(self.samples)"
   ]
  },
  {
   "cell_type": "code",
   "execution_count": 499,
   "id": "508d281e-abfe-476b-a1ed-5ef0e5bfe795",
   "metadata": {},
   "outputs": [],
   "source": [
    "# X_train_ = (X_train - X_train.mean(axis=2, keepdims=True)) / X_train.std(axis=2, keepdims=True)\n",
    "# spectrum_ = np.abs(np.fft.rfft(X_train, axis=2))\n",
    "# spectrum = np.mean(spectrum_, axis=(0))"
   ]
  },
  {
   "cell_type": "code",
   "execution_count": 500,
   "id": "e236d2c6-5902-45fa-a000-a131dcac0fd8",
   "metadata": {},
   "outputs": [],
   "source": [
    "# n = spectrum.shape[0]\n",
    "\n",
    "# fig, ax = plt.subplots(n, 1, figsize=(12, n*0.75))\n",
    "# for i in range(n):\n",
    "#     ax[i].plot(spectrum[i])\n",
    "#     if i == 8:\n",
    "#         ax[i].set_xlabel('frequency', fontsize=12)\n",
    "# fig.suptitle('Amplitude', fontsize=16)\n",
    "# fig.savefig('spectrum')"
   ]
  },
  {
   "cell_type": "code",
   "execution_count": 501,
   "id": "fe4db413-7014-4aa2-aa0e-8a6389397ce2",
   "metadata": {},
   "outputs": [],
   "source": [
    "class Tree:\n",
    "    def __init__(self, value, n_features):\n",
    "        self.tree = []\n",
    "        self.leafs = []\n",
    "        \n",
    "        index = np.arange(value.shape[0])\n",
    "        split = Split(np.sum(value), value, index)\n",
    "        self.root = split\n",
    "        \n",
    "        splits = [split]\n",
    "        print(splits)\n",
    "        for i in range(n_features - 1):\n",
    "            print(splits)\n",
    "            parent = splits.pop(0)\n",
    "            split_low, split_high = self.bisection(parent)\n",
    "            for s in [split_low, split_high]:\n",
    "                if s.length > 1:\n",
    "                    splits.append(s)\n",
    "                else:\n",
    "                    self.tree.append(s)\n",
    "            splits = sorted(splits, key=lambda x: x.energy, reverse=True)\n",
    "        self.tree = self.tree + splits\n",
    "        self.tree = sorted(self.tree, key=lambda x: x.energy, reverse=True)\n",
    "        \n",
    "        for node in self.tree:\n",
    "            if node.leaf:\n",
    "                self.leafs.append(node)\n",
    "        self.leafs = sorted(self.tree, key=lambda x: x.index[0], reverse=False)\n",
    "\n",
    "    def tree_list(self):\n",
    "        path = [self.root]\n",
    "        partitions = []\n",
    "        while len(path) > 0:\n",
    "            node = path.pop(0)\n",
    "            if not node.leaf:\n",
    "                partition = [0, 0]\n",
    "                for i, child in enumerate([node.child_low, node.child_high]):\n",
    "                    if not child.leaf:\n",
    "                        path.append(child)\n",
    "                        partition[i] = 1\n",
    "                partitions.append(partition)\n",
    "        return partitions\n",
    "        \n",
    "    def bisection(self, parent):\n",
    "        border = parent.length // 2\n",
    "        value_low, value_high = parent.value[:border], parent.value[border:]\n",
    "        index_low, index_high = parent.index[:border], parent.index[border:]\n",
    "        child_low = Split(np.sum(value_low), value_low, index_low, parent=parent)\n",
    "        child_high = Split(np.sum(value_high), value_high, index_high, parent=parent)\n",
    "        parent.child_low = child_low\n",
    "        parent.child_high = child_high\n",
    "        parent.leaf = False\n",
    "        return child_low, child_high\n",
    "    \n",
    "class Split:\n",
    "    def __init__(self, energy, value, index, parent=None):\n",
    "        self.parent = None\n",
    "        self.leaf = True\n",
    "        self.child_low = None\n",
    "        self.child_high = None\n",
    "        self.energy = energy\n",
    "        self.value = value\n",
    "        self.index = index\n",
    "        self.length = index.shape[0]\n",
    "        \n",
    "    def __str__(self):\n",
    "        return '{}-{}, {}'.format(self.index[0], self.index[-1], self.energy)\n",
    "    \n",
    "    def __repr__(self):\n",
    "        return '{}-{}, {}'.format(self.index[0], self.index[-1], self.energy)"
   ]
  },
  {
   "cell_type": "code",
   "execution_count": 502,
   "id": "9c55c6e6-8558-469d-99a6-69a731e17f47",
   "metadata": {},
   "outputs": [],
   "source": [
    "# tree = Tree(spectrum, n_features=10)\n",
    "# partitions = tree.tree_list()"
   ]
  },
  {
   "cell_type": "code",
   "execution_count": 503,
   "id": "ff06b938-0bb6-4758-bfee-6b96d24a1292",
   "metadata": {},
   "outputs": [],
   "source": [
    "def get_variable(x):\n",
    "    x = Variable(x)\n",
    "    return x.cuda() if torch.cuda.is_available() else x"
   ]
  },
  {
   "cell_type": "code",
   "execution_count": 504,
   "id": "ce003691-80b1-4c30-8103-aeef0d0837dc",
   "metadata": {},
   "outputs": [],
   "source": [
    "class BottleneckBlock(nn.Module):\n",
    "    def __init__(self, in_planes, out_planes, disable_conv=True):\n",
    "        super(BottleneckBlock, self).__init__()\n",
    "        self.bn1 = nn.BatchNorm1d(in_planes)\n",
    "#        self.relu = nn.LeakyReLU(negative_slope=0.01, inplace=True)\n",
    "        self.relu = nn.ReLU(inplace=True)\n",
    "        self.disable_conv = disable_conv\n",
    "        if not self.disable_conv:\n",
    "            self.conv1 = nn.Conv1d(in_planes, out_planes, kernel_size=1, stride=1,\n",
    "                                   padding=0, bias=False)\n",
    "\n",
    "    def forward(self, x):\n",
    "        if self.disable_conv:\n",
    "            return self.relu(self.bn1(x))\n",
    "        else:\n",
    "            return self.conv1(self.relu(self.bn1(x)))"
   ]
  },
  {
   "cell_type": "code",
   "execution_count": 505,
   "id": "934a775f-d67c-430b-bd08-01579892e0ec",
   "metadata": {},
   "outputs": [],
   "source": [
    "class Haar(nn.Module):\n",
    "    def __init__(self, in_planes, lifting_size, kernel_size, no_bottleneck,\n",
    "                 share_weights, simple_lifting, regu_details, regu_approx):\n",
    "        super(Haar, self).__init__()\n",
    "\n",
    "        self.regu_details = regu_details\n",
    "        self.regu_approx = regu_approx\n",
    "        self.share_weights = share_weights\n",
    "\n",
    "    def forward(self, x):\n",
    "        x = einops.rearrange(x, 'b t c -> b c t').cpu().detach().numpy()\n",
    "        \n",
    "        coef_approx, coef_details = pywt.dwt(x, 'db1')\n",
    "        approx = get_variable(torch.from_numpy(coef_approx))\n",
    "        details = get_variable(torch.from_numpy(coef_details))\n",
    "\n",
    "        ra, rd = 0, 0\n",
    "        if self.regu_approx > 0:\n",
    "            ra += self.regu_approx * torch.dist(approx.mean(), x.mean(), p=2)\n",
    "        if self.regu_details > 0:\n",
    "            rd = self.regu_details * details.abs().mean()\n",
    "        r = ra + rd\n",
    "\n",
    "        return approx, r, details"
   ]
  },
  {
   "cell_type": "code",
   "execution_count": 506,
   "id": "045d6a55-fd2e-4b97-8208-b6edb956d0f8",
   "metadata": {},
   "outputs": [],
   "source": [
    "class Splitting(nn.Module):\n",
    "    def __init__(self):\n",
    "        super(Splitting, self).__init__()\n",
    "        self.conv_even = lambda x: x[:, :, ::2]\n",
    "        self.conv_odd = lambda x: x[:, :, 1::2]\n",
    "\n",
    "    def forward(self, x):\n",
    "        '''Returns the odd and even part'''\n",
    "        return (self.conv_even(x), self.conv_odd(x))"
   ]
  },
  {
   "cell_type": "code",
   "execution_count": 507,
   "id": "8c4f5945-aece-4438-9586-01a68cb0d7ed",
   "metadata": {},
   "outputs": [],
   "source": [
    "class LiftingScheme(nn.Module):\n",
    "    def __init__(self, in_channels, modified=False, splitting=True, kernel_size=3, dropout = 0, simple_lifting=False):\n",
    "        super(LiftingScheme, self).__init__()\n",
    "        self.modified = True\n",
    "        self.simple_lifting = simple_lifting\n",
    "\n",
    "        # kernel_size = k_size\n",
    "        kernel_size = 3\n",
    "        dilation = 1\n",
    "\n",
    "        pad = dilation * (kernel_size - 1) // 2\n",
    "\n",
    "        \n",
    "        # self.splitting = splitting\n",
    "        self.split = Splitting()\n",
    "\n",
    "        # Dynamic build sequential network\n",
    "        modules_P = []\n",
    "        modules_U = []\n",
    "        modules_psi = []\n",
    "        modules_phi = []\n",
    "        prev_size = 1\n",
    "\n",
    "        # HARD CODED Architecture\n",
    "        if simple_lifting:\n",
    "            pad = (kernel_size - 1) // 2\n",
    "            modules_P += [\n",
    "                nn.ReflectionPad1d(pad),\n",
    "                nn.Conv1d(in_channels, in_channels, kernel_size=kernel_size, stride=1),\n",
    "                nn.Tanh()\n",
    "            ]\n",
    "            modules_U += [\n",
    "                nn.ReflectionPad1d(pad),\n",
    "                nn.Conv1d(in_channels, in_channels, kernel_size=kernel_size, stride=1),\n",
    "                nn.Tanh()\n",
    "            ]\n",
    "        else:\n",
    "            size_hidden = 2\n",
    "\n",
    "            modules_P += [\n",
    "                nn.ReflectionPad1d(pad*2),\n",
    "                nn.Conv1d(in_channels * prev_size, in_channels * size_hidden,\n",
    "                          kernel_size=kernel_size, dilation=dilation, stride=1),\n",
    "                nn.LeakyReLU(negative_slope=0.01, inplace=True),\n",
    "                nn.Dropout(dropout),\n",
    "                nn.Conv1d(in_channels * size_hidden, in_channels,\n",
    "                          kernel_size=kernel_size, stride=1),\n",
    "                nn.Tanh()\n",
    "            ]\n",
    "            modules_U += [\n",
    "                nn.ReplicationPad1d(pad*2),\n",
    "                nn.Conv1d(in_channels * prev_size, in_channels * size_hidden,\n",
    "                          kernel_size=kernel_size, dilation=dilation, stride=1),\n",
    "                nn.LeakyReLU(negative_slope=0.01, inplace=True),\n",
    "                nn.Dropout(dropout),\n",
    "                nn.Conv1d(in_channels * size_hidden, in_channels,\n",
    "                          kernel_size=kernel_size, stride=1),\n",
    "                nn.Tanh()\n",
    "            ]\n",
    "            if self.modified:\n",
    "                modules_phi += [\n",
    "                nn.ReplicationPad1d(pad*2),\n",
    "                nn.Conv1d(in_channels * prev_size, in_channels * size_hidden,\n",
    "                          kernel_size=kernel_size, dilation=dilation, stride=1),\n",
    "                nn.LeakyReLU(negative_slope=0.01, inplace=True),\n",
    "                nn.Dropout(dropout),\n",
    "                nn.Conv1d(in_channels * size_hidden, in_channels,\n",
    "                          kernel_size=kernel_size, stride=1),\n",
    "                nn.Tanh()\n",
    "            ]\n",
    "                modules_psi += [\n",
    "                nn.ReplicationPad1d(pad*2),\n",
    "                nn.Conv1d(in_channels * prev_size, in_channels * size_hidden,\n",
    "                          kernel_size=kernel_size, dilation=dilation, stride=1),\n",
    "                nn.LeakyReLU(negative_slope=0.01, inplace=True),\n",
    "                nn.Dropout(dropout),\n",
    "                nn.Conv1d(in_channels * size_hidden, in_channels,\n",
    "                          kernel_size=kernel_size, stride=1),\n",
    "                nn.Tanh()\n",
    "            ]\n",
    "\n",
    "            self.phi = nn.Sequential(*modules_phi)\n",
    "            self.psi = nn.Sequential(*modules_psi)\n",
    "        self.P = nn.Sequential(*modules_P)\n",
    "        self.U = nn.Sequential(*modules_U)\n",
    "\n",
    "    def forward(self, x):\n",
    "        (x_even, x_odd) = self.split(x)\n",
    "\n",
    "        if not self.modified or self.simple_lifting:\n",
    "            c = x_even + self.U(x_odd)\n",
    "            d = x_odd - self.P(c)\n",
    "            return (c, d)\n",
    "        else:\n",
    "            # print(x_odd.shape, x_even.shape)\n",
    "            # print(self.phi(x_even).shape)\n",
    "            d = x_odd.mul(torch.exp(self.phi(x_even))) - self.P(x_even)\n",
    "            c = x_even.mul(torch.exp(self.psi(d))) + self.U(d)\n",
    "            return (c, d)"
   ]
  },
  {
   "cell_type": "code",
   "execution_count": 508,
   "id": "70f58a5f-a1ef-4c4d-abf7-572842759040",
   "metadata": {},
   "outputs": [],
   "source": [
    "class LevelTWaveNet(nn.Module):\n",
    "    def __init__(self, in_channels, kernel_size, modified, simple_lifting, \n",
    "                 regu_details, regu_approx):\n",
    "        super(LevelTWaveNet, self).__init__()\n",
    "        self.regu_details = regu_details\n",
    "        self.regu_approx = regu_approx\n",
    "\n",
    "        self.wavelet = LiftingScheme(\n",
    "            in_channels=in_channels, modified=modified,\n",
    "            kernel_size=kernel_size, simple_lifting=simple_lifting\n",
    "        )\n",
    "        \n",
    "        # self.share_weights = share_weights\n",
    "        # self.bootleneck = BottleneckBlock(in_channels, in_channels, disable_conv=no_bottleneck)\n",
    "\n",
    "    def forward(self, x):\n",
    "        approx, details = self.wavelet(x) #10 9 128\n",
    "\n",
    "        ra, rd = 0, 0\n",
    "        if self.regu_approx > 0:\n",
    "            ra += self.regu_approx * torch.dist(approx.mean(), x.mean(), p=2)\n",
    "        if self.regu_details > 0:\n",
    "            rd = self.regu_details * details.abs().mean()\n",
    "        r = ra + rd\n",
    "\n",
    "        # approx = self.bootleneck(approx)\n",
    "            \n",
    "        return approx, r, details"
   ]
  },
  {
   "cell_type": "code",
   "execution_count": 509,
   "id": "5bace3ae-314e-4ded-9492-08c28034a40f",
   "metadata": {},
   "outputs": [],
   "source": [
    "import torch.nn.functional as F"
   ]
  },
  {
   "cell_type": "code",
   "execution_count": 510,
   "id": "e50f46d7-9ee0-4a51-b2e0-a428a8b6b4e1",
   "metadata": {},
   "outputs": [],
   "source": [
    "class ScaledDotProductAttention(nn.Module):\n",
    "    ''' Scaled Dot-Product Attention '''\n",
    "\n",
    "    def __init__(self, temperature, attn_dropout=0.1):\n",
    "        super().__init__()\n",
    "        self.temperature = temperature\n",
    "        self.dropout = nn.Dropout(attn_dropout)\n",
    "\n",
    "    def forward(self, q, k, v, mask=None):\n",
    "\n",
    "        attn = torch.matmul(q / self.temperature, k.transpose(2, 3))\n",
    "\n",
    "        if mask is not None:\n",
    "            attn = attn.masked_fill(mask == 0, -1e9)\n",
    "\n",
    "        attn = self.dropout(F.softmax(attn, dim=-1))\n",
    "        output = torch.matmul(attn, v)\n",
    "\n",
    "        return output, attn"
   ]
  },
  {
   "cell_type": "code",
   "execution_count": 511,
   "id": "2aa428a0-5aef-4f38-a189-11115c9f0f8f",
   "metadata": {},
   "outputs": [],
   "source": [
    "class MultiHeadAttention(nn.Module):\n",
    "    ''' Multi-Head Attention module '''\n",
    "\n",
    "                        # 512    8  64    64\n",
    "    def __init__(self, n_head, d_model, d_k, d_v, dropout=0):\n",
    "        super().__init__()\n",
    "\n",
    "        self.n_head = n_head\n",
    "        self.d_k = d_k\n",
    "        self.d_v = d_v\n",
    "        # if args.share_weight:\n",
    "        #     print('Attention block share weight!')\n",
    "        #     self.w_qs = nn.Linear(d_model, n_head * d_k, bias=False)\n",
    "        # else:\n",
    "        # print('Attention block NOT share weight!')\n",
    "        self.w_qs = nn.Linear(d_model, n_head * d_k, bias=False)\n",
    "        self.w_ks = nn.Linear(d_model, n_head * d_k, bias=False)\n",
    "        self.w_vs = nn.Linear(d_model, n_head * d_v, bias=False)\n",
    "        self.fc = nn.Linear(n_head * d_v, d_model, bias=False)\n",
    "        # if args.temp:\n",
    "            # print('Attention temporature < 1')\n",
    "            # self.attention = ScaledDotProductAttention(temperature=d_k ** 0.5)\n",
    "        # else:\n",
    "            # print('Attention temporature = 1')\n",
    "        temperature = 1\n",
    "        self.attention = ScaledDotProductAttention(temperature=temperature)\n",
    "        self.dropout = nn.Dropout(dropout)\n",
    "        self.layer_norm = nn.LayerNorm(d_model, eps=1e-6)\n",
    "\n",
    "\n",
    "    def forward(self, q, k, v, mask=None):\n",
    "        d_k, d_v, n_head = self.d_k, self.d_v, self.n_head\n",
    "        sz_b, len_q, len_k, len_v = q.size(0), q.size(1), k.size(1), v.size(1)\n",
    "        residual = q\n",
    "        # Pass through the pre-attention projection: b x lq x (n*dv)\n",
    "        # Separate different heads: b x lq x n x dv\n",
    "        q = self.w_qs(q).view(sz_b, len_q, n_head, d_k)\n",
    "        # if  args.share_weight:\n",
    "        #     k = self.w_qs(k).view(sz_b, len_k, n_head, d_k)\n",
    "        #     v = self.w_qs(v).view(sz_b, len_v, n_head, d_v)\n",
    "        # else:\n",
    "        k = self.w_ks(k).view(sz_b, len_k, n_head, d_k)\n",
    "        v = self.w_vs(v).view(sz_b, len_v, n_head, d_v)\n",
    "        # Transpose for attention dot product: b x n x lq x dv\n",
    "        q, k, v = q.transpose(1, 2), k.transpose(1, 2), v.transpose(1, 2)\n",
    "\n",
    "        if mask is not None:\n",
    "            mask = mask.unsqueeze(1)   # For head axis broadcasting.\n",
    "\n",
    "        q, attn = self.attention(q, k, v, mask=mask)\n",
    "        # Transpose to move the head dimension back: b x lq x n x dv\n",
    "        # Combine the last two dimensions to concatenate all the heads together: b x lq x (n*dv)\n",
    "        q = q.transpose(1, 2).contiguous().view(sz_b, len_q, -1)\n",
    "        q = self.dropout(self.fc(q))\n",
    "        q += residual\n",
    "\n",
    "        q = self.layer_norm(q)\n",
    "\n",
    "        return q, attn"
   ]
  },
  {
   "cell_type": "code",
   "execution_count": 512,
   "id": "452063a8-176f-4914-8fb3-42203df385ac",
   "metadata": {},
   "outputs": [],
   "source": [
    "class TWaveNet(nn.Module):\n",
    "    def __init__(self, \n",
    "                 num_classes, \n",
    "                 in_channels=9, \n",
    "                 extend_channel = 128,\n",
    "                 number_levels=4,\n",
    "                 level_part=[[1, 0], [1, 0], [1, 0]],\n",
    "                 kernel_size=3, \n",
    "                 classifier='fc-nn',\n",
    "                 modified=True,\n",
    "                 simple_lifting=False,\n",
    "                 regu_details=0.01, \n",
    "                 regu_approx=0.01, \n",
    "                 haar_wavelet=False\n",
    "                ):\n",
    "        super(TWaveNet, self).__init__()\n",
    "\n",
    "        self.nb_channels_in = in_channels\n",
    "        \n",
    "        # First convolution\n",
    "        # if first_conv != 3 and first_conv != 9 and first_conv != 22 :\n",
    "        #     print(first_conv)\n",
    "        #     self.first_conv = True\n",
    "        #     self.conv1 = nn.Sequential(\n",
    "        #         nn.Conv1d(first_conv, extend_channel, kernel_size=3, stride=1, padding=1, bias=False),\n",
    "        #         nn.BatchNorm1d(extend_channel),\n",
    "        #         nn.LeakyReLU(negative_slope=0.01, inplace=True),\n",
    "        #         nn.Dropout(0.5),\n",
    "        #         nn.Conv1d(extend_channel, extend_channel, kernel_size=3, stride=1, padding=1, bias=False),\n",
    "        #         nn.BatchNorm1d(extend_channel),\n",
    "        #         nn.LeakyReLU(negative_slope=0.01, inplace=True),\n",
    "        #         nn.Dropout(0.5),\n",
    "        #     )\n",
    "        #     in_planes = extend_channel\n",
    "        #     out_planes = extend_channel * (number_levels + 1)\n",
    "        # else:\n",
    "        self.first_conv = False\n",
    "        in_planes = in_channels\n",
    "        out_planes = in_channels * (number_levels + 1)\n",
    "        # print(out_planes)\n",
    "\n",
    "        self.level_part = level_part\n",
    "        self.levels = nn.ModuleList()\n",
    "        \n",
    "        for i in range(number_levels):\n",
    "            layer = Haar if haar_wavelet else LevelTWaveNet\n",
    "            module = layer(\n",
    "                in_channels, kernel_size, modified, simple_lifting, \n",
    "                regu_details, regu_approx\n",
    "            )\n",
    "            self.levels.add_module('level_' + str(i), module)\n",
    "            in_planes *= 1\n",
    "\n",
    "            out_planes += in_planes * 3\n",
    "        # print(out_planes)\n",
    "        \n",
    "        # if no_bootleneck:\n",
    "        #     in_planes *= 1\n",
    "        self.num_planes = out_planes\n",
    "\n",
    "\n",
    "        if classifier == 'linear':\n",
    "            self.fc = nn.Linear(out_planes, num_classes)\n",
    "        elif classifier == 'fc-nn':\n",
    "            self.fc = nn.Sequential(\n",
    "                nn.Linear(in_planes * (number_levels + 1), 1024),  # Todo:  extend channels\n",
    "                nn.BatchNorm1d(1024),\n",
    "                nn.LeakyReLU(negative_slope=0.01, inplace=True),\n",
    "                nn.Linear(1024, num_classes)\n",
    "            )\n",
    "        else:\n",
    "            raise 'Unknown classifier'\n",
    "\n",
    "        for module in self.modules():\n",
    "            if isinstance(module, nn.Conv2d):\n",
    "                n = module.kernel_size[0] * module.kernel_size[1] * module.out_channels\n",
    "                module.weight.data.normal_(0, math.sqrt(2. / n))\n",
    "            elif isinstance(module, nn.BatchNorm2d):\n",
    "                module.weight.data.fill_(1)\n",
    "                module.bias.data.zero_()\n",
    "            elif isinstance(module, nn.Linear):\n",
    "                module.bias.data.zero_()\n",
    "        self.avgpool = nn.AdaptiveAvgPool1d(1)\n",
    "\n",
    "        n_head = 16\n",
    "        n_att_channel = 32\n",
    "        self.atten = MultiHeadAttention(n_head=n_head, d_model=in_planes, d_k=n_att_channel, d_v=n_att_channel, dropout=0)\n",
    "        self.count_levels = 0\n",
    "        \n",
    "    def forward(self, x):\n",
    "        if self.first_conv:\n",
    "            x = einops.rearrange(x, 'b t c -> b c t')\n",
    "            x = self.conv1(x)\n",
    "            x = einops.rearrange(x, 'b c t -> b t c')\n",
    "        # print(x.shape)\n",
    "        regularizers = 0  # List of constrains on details and mean\n",
    "        features = []  # List of averaged pooled details\n",
    "\n",
    "        inputs = queue.Queue()\n",
    "        inputs.put(x)\n",
    "\n",
    "        for i, level in enumerate(self.levels):\n",
    "            input_ = inputs.get()\n",
    "            approx, r, details = level(input_)\n",
    "            \n",
    "            if self.level_part[i][0]:\n",
    "                inputs.put(approx)\n",
    "            else:\n",
    "                features.append(self.avgpool(approx))\n",
    "                \n",
    "            if self.level_part[i][1]:\n",
    "                inputs.put(details)\n",
    "            else:\n",
    "                features.append(self.avgpool(details))\n",
    "\n",
    "            regularizers += r\n",
    "            self.count_levels = self.count_levels + 1\n",
    "\n",
    "        x = torch.cat(features, 2)\n",
    "        x = einops.rearrange(x, 'b c t -> b t c')\n",
    "        q, att = self.atten(x, x, x, mask=None)\n",
    "        x = q\n",
    "        x = einops.rearrange(x, 'b c t -> b (c t)')\n",
    "        return self.fc(x), regularizers"
   ]
  },
  {
   "cell_type": "code",
   "execution_count": 513,
   "id": "c06425a2-50e7-4061-9daa-f3a717d08d5a",
   "metadata": {},
   "outputs": [
    {
     "data": {
      "text/plain": [
       "7.0"
      ]
     },
     "execution_count": 513,
     "metadata": {},
     "output_type": "execute_result"
    }
   ],
   "source": [
    "539 / 77"
   ]
  },
  {
   "cell_type": "code",
   "execution_count": 515,
   "id": "ba8c9524-defb-4239-ae78-23260a3bd395",
   "metadata": {},
   "outputs": [],
   "source": [
    "class Trainer:\n",
    "    def __init__(self, model, lr=3e-4):\n",
    "        self.model = model\n",
    "        self.lr = lr\n",
    "        self.optimizer = torch.optim.Adam(self.model.parameters(), lr=lr, weight_decay=1e-4)\n",
    "        self.scheduler = torch.optim.lr_scheduler.ExponentialLR(self.optimizer, gamma=0.95)\n",
    "        self.criterion = nn.CrossEntropyLoss()\n",
    "        self.train_loss = []\n",
    "        self.val_loss = []\n",
    "\n",
    "    def fit(self, dataloader_train, dataloader_val, nepoch=1, use_scheduler=True):\n",
    "        for epoch in tqdm(range(nepoch)):\n",
    "            self.model.train()\n",
    "            train_loss = 0\n",
    "            for x, y in dataloader_train:\n",
    "                self.optimizer.zero_grad()\n",
    "                logits, regularizers = self.model(x)\n",
    "                loss = self.criterion(logits, y) + torch.sum(regularizers)\n",
    "                loss.backward()\n",
    "                self.optimizer.step()\n",
    "                train_loss += loss.detach().cpu().numpy().item() * x.shape[0]\n",
    "            self.train_loss.append(train_loss)\n",
    "            self.scheduler.step()\n",
    "        \n",
    "            self.model.eval()\n",
    "            val_loss = 0\n",
    "            for x, y in dataloader_val:\n",
    "                logits, regularizers = self.model(x)\n",
    "                loss = self.criterion(logits, y) + torch.sum(regularizers)\n",
    "                val_loss += loss.detach().cpu().numpy().item() * x.shape[0]\n",
    "            self.val_loss.append(val_loss)\n",
    "            ys_true, ys_hat = self.predict(dataloader_val)\n",
    "            \n",
    "    def predict(self, dataloader_val):\n",
    "        self.model.eval()\n",
    "        val_loss = 0\n",
    "        ys_true, ys_hat = [], []\n",
    "        for x, y in dataloader_val:\n",
    "            logits, regularizers = self.model(x)\n",
    "            y_hat = torch.argmax(logits, dim=1)\n",
    "            ys_true.append(y)\n",
    "            ys_hat.append(y_hat)\n",
    "        ys_true = torch.cat(ys_true).detach().cpu().numpy()\n",
    "        ys_hat = torch.cat(ys_hat).detach().cpu().numpy()\n",
    "        return ys_true, ys_hat"
   ]
  },
  {
   "cell_type": "markdown",
   "id": "e6bbe440-d2d1-4249-8587-2ee4332bdda7",
   "metadata": {},
   "source": [
    "## UCI"
   ]
  },
  {
   "cell_type": "code",
   "execution_count": 516,
   "id": "d46184de-9be0-425c-828c-b3bc2e0918e9",
   "metadata": {},
   "outputs": [
    {
     "name": "stdout",
     "output_type": "stream",
     "text": [
      "HAR level number 9, level details: [[1, 0], [1, 1], [1, 1], [1, 0], [1, 1], [0, 0], [0, 0], [0, 0], [0, 0]]\n",
      "BCICIV2a level number 7, level details: [[1, 0], [1, 1], [1, 0], [1, 0], [1, 0], [0, 0], [0, 0]]\n",
      "NinaPro level number 10, level details: [[1, 1], [0, 1], [1, 1], [0, 0], [1, 1], [1, 1], [0, 0], [0, 0], [0, 0], [0, 0]]\n",
      "OPPOR level number 8, level details: [[1, 1], [1, 1], [0, 0], [1, 1], [0, 0], [1, 0], [0, 0], [0, 0]]\n"
     ]
    }
   ],
   "source": [
    "path_load = 'datasets/HAR/'\n",
    "train_x = np.load(path_load + 'train_x.npy')\n",
    "train_y = np.load(path_load + 'train_y.npy')\n",
    "test_x = np.load(path_load + 'test_x.npy')\n",
    "test_y = np.load(path_load + 'test_y.npy')\n",
    "\n",
    "part_HAR = [[1, 0], [1, 1], [1, 1], [1, 0], [1, 1], [0, 0], [0, 0], [0, 0], [0, 0]]\n",
    "print('HAR level number {}, level details: {}'.format(len(part_HAR), part_HAR))\n",
    "part_BCICIV2a = [[1, 0], [1, 1], [1, 0], [1, 0], [1, 0], [0, 0], [0, 0]]\n",
    "print('BCICIV2a level number {}, level details: {}'.format(len(part_BCICIV2a), part_BCICIV2a))\n",
    "part_NinaPro = [[1, 1], [0, 1], [1, 1], [0, 0], [1, 1], [1, 1], [0, 0], [0, 0], [0, 0], [0, 0]]\n",
    "print('NinaPro level number {}, level details: {}'.format(len(part_NinaPro), part_NinaPro))\n",
    "part_OPPOR = [[1, 1], [1, 1], [0, 0], [1, 1], [0, 0], [1, 0], [0, 0], [0, 0]]\n",
    "print('OPPOR level number {}, level details: {}'.format(len(part_OPPOR), part_OPPOR))\n",
    "\n",
    "ts_length = train_x.shape[2]\n",
    "n_ts = train_x.shape[1]\n",
    "n_classes = np.unique(train_y).shape[0]"
   ]
  },
  {
   "cell_type": "code",
   "execution_count": 517,
   "id": "8b0e6cbe-b7b6-486d-9656-60215cf524f9",
   "metadata": {},
   "outputs": [
    {
     "data": {
      "text/plain": [
       "(7352, 9, 128)"
      ]
     },
     "execution_count": 517,
     "metadata": {},
     "output_type": "execute_result"
    }
   ],
   "source": [
    "train_x.shape"
   ]
  },
  {
   "cell_type": "code",
   "execution_count": 518,
   "id": "0ef90fe3-61aa-4682-a0cd-e02b12e282b2",
   "metadata": {},
   "outputs": [],
   "source": [
    "transforms = None\n",
    "batch_size = 64\n",
    "dataset_train = TimeSeriesDataset(train_x, train_y, transforms)\n",
    "dataset_test = TimeSeriesDataset(test_x, test_y, transforms)\n",
    "dataloader_train = DataLoader(dataset_train, batch_size=batch_size, shuffle=True, drop_last=True, generator=torch.Generator(device='cuda'))\n",
    "dataloader_test = DataLoader(dataset_test, batch_size=batch_size, shuffle=False, generator=torch.Generator(device='cuda'))"
   ]
  },
  {
   "cell_type": "code",
   "execution_count": 522,
   "id": "9e66f17c-c1fc-4cec-bd4d-6eb738e76949",
   "metadata": {},
   "outputs": [],
   "source": [
    "model = TWaveNet(\n",
    "    num_classes=n_classes, \n",
    "    in_channels=n_ts, \n",
    "    extend_channel = ts_length,\n",
    "    number_levels=len(part_HAR),\n",
    "    level_part=part_HAR,\n",
    "    kernel_size=3, \n",
    "    classifier='fc-nn',\n",
    "    modified=True,\n",
    "    simple_lifting=False,\n",
    "    regu_details=0.1, \n",
    "    regu_approx=0.1, \n",
    "    haar_wavelet=False\n",
    ")"
   ]
  },
  {
   "cell_type": "code",
   "execution_count": 523,
   "id": "0bd1b3da-ace2-4b20-a5f9-242c52c47e97",
   "metadata": {},
   "outputs": [
    {
     "name": "stderr",
     "output_type": "stream",
     "text": [
      "100%|██████████| 2/2 [02:16<00:00, 68.46s/it]\n"
     ]
    }
   ],
   "source": [
    "trainer = Trainer(model, lr=3e-4)\n",
    "trainer.fit(dataloader_train, dataloader_test, nepoch=2)"
   ]
  },
  {
   "cell_type": "code",
   "execution_count": 524,
   "id": "69b29b02-21b1-4ba1-819b-428efa024923",
   "metadata": {},
   "outputs": [
    {
     "data": {
      "text/plain": [
       "0.8411944350186631"
      ]
     },
     "execution_count": 524,
     "metadata": {},
     "output_type": "execute_result"
    }
   ],
   "source": [
    "ys_true, ys_hat = trainer.predict(dataloader_test)\n",
    "np.mean(ys_true == ys_hat)"
   ]
  },
  {
   "cell_type": "code",
   "execution_count": 525,
   "id": "0c1f286a-415e-4cca-9901-20ce8eaa7864",
   "metadata": {},
   "outputs": [
    {
     "data": {
      "image/png": "[encoded data removed]",
      "text/plain": [
       "<Figure size 1000x200 with 1 Axes>"
      ]
     },
     "metadata": {},
     "output_type": "display_data"
    }
   ],
   "source": [
    "fig, ax = plt.subplots(1, 1, figsize=(10, 2))\n",
    "ax.plot(np.asarray(trainer.train_loss) / X_train.shape[0], label='train loss')\n",
    "ax.plot(np.asarray(trainer.val_loss) / X_test.shape[0], label='test loss')\n",
    "ax.legend()\n",
    "ax.set_title('UCI losses')\n",
    "# fig.savefig('uci_loss')\n",
    "plt.show()"
   ]
  },
  {
   "cell_type": "code",
   "execution_count": 526,
   "id": "5bbdaf72-60a3-477c-b555-da3866b3ad47",
   "metadata": {},
   "outputs": [
    {
     "name": "stdout",
     "output_type": "stream",
     "text": [
      "0.8361123786983737 0.8342458826597574 0.8411944350186631\n"
     ]
    }
   ],
   "source": [
    "Fw, Fm, accuracy = metrics(ys_true, ys_hat, n_classes)\n",
    "print(Fw, Fm, accuracy)"
   ]
  },
  {
   "cell_type": "markdown",
   "id": "c17d47ee-630d-45b2-8672-32f9b7d676b0",
   "metadata": {},
   "source": [
    "## OPPOR"
   ]
  },
  {
   "cell_type": "code",
   "execution_count": 527,
   "id": "a551fe04-9802-4ce4-a1cf-bca396d6d43e",
   "metadata": {},
   "outputs": [
    {
     "name": "stdout",
     "output_type": "stream",
     "text": [
      "OPPOR level number 7, level details: [[1, 1], [1, 1], [0, 0], [1, 1], [0, 0], [0, 0], [0, 0]]\n"
     ]
    }
   ],
   "source": [
    "path_load = 'datasets/OPPOR/'\n",
    "train_x = np.load(path_load + 'train_x.npy').astype(np.float64)\n",
    "train_y = np.load(path_load + 'train_y.npy')\n",
    "test_x = np.load(path_load + 'test_x.npy').astype(np.float64)\n",
    "test_y = np.load(path_load + 'test_y.npy')\n",
    "\n",
    "# part_OPPOR = [[1, 1], [1, 1], [0, 0], [1, 1], [0, 0], [1, 0], [0, 0], [0, 0]]\n",
    "part_OPPOR = [[1, 1], [1, 1], [0, 0], [1, 1], [0, 0], [0, 0], [0, 0]]\n",
    "print('OPPOR level number {}, level details: {}'.format(len(part_OPPOR), part_OPPOR))\n",
    "\n",
    "ts_length = train_x.shape[2]\n",
    "n_ts = train_x.shape[1]\n",
    "n_classes = np.unique(train_y).shape[0]"
   ]
  },
  {
   "cell_type": "code",
   "execution_count": 528,
   "id": "d7d04e6f-d32a-4b59-9fd9-de1d4b3982d6",
   "metadata": {},
   "outputs": [
    {
     "data": {
      "text/plain": [
       "(41375, 77, 48)"
      ]
     },
     "execution_count": 528,
     "metadata": {},
     "output_type": "execute_result"
    }
   ],
   "source": [
    "train_x.shape"
   ]
  },
  {
   "cell_type": "code",
   "execution_count": 529,
   "id": "867d4074-643b-42e6-95da-e771f9d33e29",
   "metadata": {},
   "outputs": [],
   "source": [
    "transforms = None\n",
    "batch_size = 64\n",
    "dataset_train = TimeSeriesDataset(train_x, train_y, transforms)\n",
    "dataset_test = TimeSeriesDataset(test_x, test_y, transforms)\n",
    "dataloader_train = DataLoader(dataset_train, batch_size=batch_size, shuffle=True, drop_last=True, generator=torch.Generator(device='cuda'))\n",
    "dataloader_test = DataLoader(dataset_test, batch_size=batch_size, shuffle=False, generator=torch.Generator(device='cuda'))"
   ]
  },
  {
   "cell_type": "code",
   "execution_count": 530,
   "id": "39ce155d-97fc-45e1-9422-5c95bb3c7557",
   "metadata": {},
   "outputs": [],
   "source": [
    "model = TWaveNet(\n",
    "    num_classes=n_classes, \n",
    "    in_channels=n_ts, \n",
    "    extend_channel = ts_length,\n",
    "    number_levels=len(part_OPPOR),\n",
    "    level_part=part_OPPOR,\n",
    "    kernel_size=3, \n",
    "    classifier='fc-nn',\n",
    "    modified=True,\n",
    "    simple_lifting=False,\n",
    "    regu_details=0.1, \n",
    "    regu_approx=0.1, \n",
    "    haar_wavelet=False\n",
    ")"
   ]
  },
  {
   "cell_type": "code",
   "execution_count": null,
   "id": "afc29816-e94f-4bdb-b923-e7fee0cc23a2",
   "metadata": {},
   "outputs": [
    {
     "name": "stderr",
     "output_type": "stream",
     "text": [
      "  0%|          | 0/100 [00:00<?, ?it/s]"
     ]
    }
   ],
   "source": [
    "trainer = Trainer(model, lr=3e-4)\n",
    "trainer.fit(dataloader_train, dataloader_test, nepoch=100)"
   ]
  },
  {
   "cell_type": "code",
   "execution_count": 482,
   "id": "f71566c2-c9e6-4fb4-bdac-572d01024061",
   "metadata": {},
   "outputs": [
    {
     "data": {
      "image/png": "[encoded data removed]",
      "text/plain": [
       "<Figure size 1000x200 with 1 Axes>"
      ]
     },
     "metadata": {},
     "output_type": "display_data"
    }
   ],
   "source": [
    "fig, ax = plt.subplots(1, 1, figsize=(10, 2))\n",
    "ax.plot(np.asarray(trainer.train_loss) / X_train.shape[0], label='train loss')\n",
    "ax.plot(np.asarray(trainer.val_loss) / X_test.shape[0], label='test loss')\n",
    "ax.legend()\n",
    "ax.set_title('OPPOR losses')\n",
    "fig.savefig('oppor_loss2')\n",
    "plt.show()"
   ]
  },
  {
   "cell_type": "code",
   "execution_count": 483,
   "id": "14b45d73-ada4-4cba-aa40-617f20697a96",
   "metadata": {},
   "outputs": [
    {
     "data": {
      "text/plain": [
       "0.8920259056871078"
      ]
     },
     "execution_count": 483,
     "metadata": {},
     "output_type": "execute_result"
    }
   ],
   "source": [
    "ys_true, ys_hat = trainer.predict(dataloader_test)\n",
    "np.mean(ys_true == ys_hat)"
   ]
  },
  {
   "cell_type": "code",
   "execution_count": 484,
   "id": "d9f20164-0088-41c9-bfe3-fb99f97dea13",
   "metadata": {},
   "outputs": [
    {
     "name": "stdout",
     "output_type": "stream",
     "text": [
      "0.8874364922186864 0.599770844361154 0.8920259056871078\n"
     ]
    }
   ],
   "source": [
    "Fw, Fm, accuracy = metrics(ys_true, ys_hat, n_classes)\n",
    "print(Fw, Fm, accuracy)"
   ]
  },
  {
   "cell_type": "markdown",
   "id": "5bbbfa69-51d1-4e75-8d5b-664667a38c8d",
   "metadata": {},
   "source": [
    "## NinaPro"
   ]
  },
  {
   "cell_type": "code",
   "execution_count": 485,
   "id": "8a25f193-85bc-4b54-9052-c6c2c23739eb",
   "metadata": {},
   "outputs": [
    {
     "name": "stdout",
     "output_type": "stream",
     "text": [
      "NinaPro level number 10, level details: [[1, 1], [0, 1], [1, 1], [0, 0], [1, 1], [1, 1], [0, 0], [0, 0], [0, 0], [0, 0]]\n"
     ]
    }
   ],
   "source": [
    "path_load = 'datasets/NinaPro/'\n",
    "train_x = np.load(path_load + 'train_x.npy').astype(np.float64)\n",
    "train_y = np.load(path_load + 'train_y.npy')\n",
    "test_x = np.load(path_load + 'test_x.npy').astype(np.float64)\n",
    "test_y = np.load(path_load + 'test_y.npy')\n",
    "\n",
    "part_NinaPro = [[1, 1], [0, 1], [1, 1], [0, 0], [1, 1], [1, 1], [0, 0], [0, 0], [0, 0], [0, 0]]\n",
    "# part_NinaPro = [[1, 1], [0, 1], [1, 1], [0, 0], [0, 0], [0, 0]]\n",
    "print('NinaPro level number {}, level details: {}'.format(len(part_NinaPro), part_NinaPro))\n",
    "\n",
    "ts_length = train_x.shape[2]\n",
    "n_ts = train_x.shape[1]\n",
    "n_classes = np.unique(train_y).shape[0]"
   ]
  },
  {
   "cell_type": "code",
   "execution_count": 486,
   "id": "3be2fd8b-e03c-4c5e-b9b7-29d8a4180eed",
   "metadata": {},
   "outputs": [],
   "source": [
    "transforms = None\n",
    "batch_size = 64\n",
    "dataset_train = TimeSeriesDataset(train_x, train_y, transforms)\n",
    "dataset_test = TimeSeriesDataset(test_x, test_y, transforms)\n",
    "dataloader_train = DataLoader(dataset_train, batch_size=batch_size, shuffle=True, drop_last=True, generator=torch.Generator(device='cuda'))\n",
    "dataloader_test = DataLoader(dataset_test, batch_size=batch_size, shuffle=False, generator=torch.Generator(device='cuda'))"
   ]
  },
  {
   "cell_type": "code",
   "execution_count": 487,
   "id": "d1068089-6609-44b2-ab24-6427bd34f5c8",
   "metadata": {},
   "outputs": [],
   "source": [
    "model = TWaveNet(\n",
    "    num_classes=n_classes, \n",
    "    in_channels=n_ts, \n",
    "    extend_channel = ts_length,\n",
    "    number_levels=len(part_NinaPro),\n",
    "    level_part=part_NinaPro,\n",
    "    kernel_size=3, \n",
    "    classifier='fc-nn',\n",
    "    modified=True,\n",
    "    simple_lifting=False,\n",
    "    regu_details=0.1, \n",
    "    regu_approx=0.1, \n",
    "    haar_wavelet=False\n",
    ")"
   ]
  },
  {
   "cell_type": "code",
   "execution_count": 488,
   "id": "3166b644-f62f-4310-9b7a-f8acd9f2aadb",
   "metadata": {},
   "outputs": [
    {
     "name": "stderr",
     "output_type": "stream",
     "text": [
      "100%|██████████| 100/100 [53:27<00:00, 32.08s/it]\n"
     ]
    }
   ],
   "source": [
    "trainer = Trainer(model, lr=3e-4)\n",
    "trainer.fit(dataloader_train, dataloader_test, nepoch=100)"
   ]
  },
  {
   "cell_type": "code",
   "execution_count": 489,
   "id": "36a87fd0-087a-49f0-9e60-92661503c36a",
   "metadata": {},
   "outputs": [
    {
     "data": {
      "image/png": "[encoded data removed]",
      "text/plain": [
       "<Figure size 1000x200 with 1 Axes>"
      ]
     },
     "metadata": {},
     "output_type": "display_data"
    }
   ],
   "source": [
    "fig, ax = plt.subplots(1, 1, figsize=(10, 2))\n",
    "ax.plot(np.asarray(trainer.train_loss) / X_train.shape[0], label='train loss')\n",
    "ax.plot(np.asarray(trainer.val_loss) / X_test.shape[0], label='test loss')\n",
    "ax.legend()\n",
    "ax.set_title('NinaPro losses')\n",
    "fig.savefig('ninapro_loss')\n",
    "plt.show()"
   ]
  },
  {
   "cell_type": "code",
   "execution_count": 490,
   "id": "5bedb40c-045d-4eda-8240-727e0e00a4a3",
   "metadata": {},
   "outputs": [
    {
     "data": {
      "text/plain": [
       "0.7495184471773596"
      ]
     },
     "execution_count": 490,
     "metadata": {},
     "output_type": "execute_result"
    }
   ],
   "source": [
    "ys_true, ys_hat = trainer.predict(dataloader_test)\n",
    "np.mean(ys_true == ys_hat)"
   ]
  },
  {
   "cell_type": "code",
   "execution_count": 491,
   "id": "d6ec93ff-2d7a-4caf-978b-19ae1080e19b",
   "metadata": {},
   "outputs": [
    {
     "name": "stdout",
     "output_type": "stream",
     "text": [
      "0.7502767212964495 0.750263745084392 0.7495184471773596\n"
     ]
    }
   ],
   "source": [
    "Fw, Fm, accuracy = metrics(ys_true, ys_hat, n_classes)\n",
    "print(Fw, Fm, accuracy)"
   ]
  },
  {
   "cell_type": "code",
   "execution_count": null,
   "id": "b3cd225a-c1ef-4f82-b216-02a1cfa5f8eb",
   "metadata": {},
   "outputs": [],
   "source": []
  }
 ],
 "metadata": {
  "kernelspec": {
   "display_name": "Python 3 (ipykernel)",
   "language": "python",
   "name": "python3"
  },
  "language_info": {
   "codemirror_mode": {
    "name": "ipython",
    "version": 3
   },
   "file_extension": ".py",
   "mimetype": "text/x-python",
   "name": "python",
   "nbconvert_exporter": "python",
   "pygments_lexer": "ipython3",
   "version": "3.10.8"
  }
 },
 "nbformat": 4,
 "nbformat_minor": 5
}
