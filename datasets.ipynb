{
 "cells": [
  {
   "cell_type": "code",
   "execution_count": 5,
   "id": "28fbe591-917e-4eab-a5b1-94aa093009a6",
   "metadata": {},
   "outputs": [
    {
     "name": "stderr",
     "output_type": "stream",
     "text": [
      "/opt/conda/lib/python3.10/site-packages/tqdm/auto.py:22: TqdmWarning: IProgress not found. Please update jupyter and ipywidgets. See https://ipywidgets.readthedocs.io/en/stable/user_install.html\n",
      "  from .autonotebook import tqdm as notebook_tqdm\n"
     ]
    }
   ],
   "source": [
    "import os\n",
    "from io import BytesIO\n",
    "import importlib\n",
    "\n",
    "import numpy as np\n",
    "import matplotlib.pyplot as plt\n",
    "from torch.utils.data import Dataset, DataLoader\n",
    "\n",
    "import torch\n",
    "import torch.nn as nn\n",
    "import einops\n",
    "import pandas as pd\n",
    "# from pandas import Series\n",
    "\n",
    "# import datasets.DeepConvLSTM.sliding_window\n",
    "# importlib.reload(datasets.DeepConvLSTM.sliding_window)\n",
    "\n",
    "from tqdm import tqdm\n",
    "import scipy.signal as sg"
   ]
  },
  {
   "cell_type": "markdown",
   "id": "13e7c58b-cddc-40d5-9346-89391a2eb86b",
   "metadata": {},
   "source": [
    "## HAR"
   ]
  },
  {
   "cell_type": "code",
   "execution_count": 20,
   "id": "61afbfa3-03fb-4da7-8b70-f5619e78dece",
   "metadata": {},
   "outputs": [],
   "source": [
    "data_path = 'Supplementary/T-WaveNet-master/data/data_har.npz'\n",
    "data = np.load(data_path)"
   ]
  },
  {
   "cell_type": "code",
   "execution_count": 21,
   "id": "9156149f-f614-43d2-b504-8c3e4d1e0b86",
   "metadata": {},
   "outputs": [
    {
     "name": "stdout",
     "output_type": "stream",
     "text": [
      "train_x (7352, 9, 128) train_y (7352,) test_x (2947, 9, 128) test_y (2947,)\n"
     ]
    }
   ],
   "source": [
    "train_x = data['X_train']\n",
    "train_x = einops.rearrange(train_x, 'b t c -> b c t')\n",
    "train_y_onehot = data['Y_train']\n",
    "train_y = np.argmax(train_y_onehot, axis=1)\n",
    "\n",
    "test_x = data['X_test']\n",
    "test_x = einops.rearrange(test_x, 'b t c -> b c t')\n",
    "test_y_onehot = data['Y_test']\n",
    "test_y = np.argmax(test_y_onehot, axis=1)\n",
    "print('train_x', train_x.shape, 'train_y', train_y.shape, 'test_x', test_x.shape, 'test_y', test_y.shape)"
   ]
  },
  {
   "cell_type": "code",
   "execution_count": 22,
   "id": "07dc291b-68d9-445c-a1c3-4182732ba435",
   "metadata": {},
   "outputs": [],
   "source": [
    "path_save = 'datasets/HAR/'\n",
    "np.save(path_save + 'train_x.npy', train_x)\n",
    "np.save(path_save + 'train_y.npy', train_y)\n",
    "np.save(path_save + 'test_x.npy', test_x)\n",
    "np.save(path_save + 'test_y.npy', test_y)"
   ]
  },
  {
   "cell_type": "code",
   "execution_count": 23,
   "id": "e2b45443-bb4b-4574-b139-e1c36de9b7d6",
   "metadata": {},
   "outputs": [
    {
     "data": {
      "text/plain": [
       "(7352, 9, 128)"
      ]
     },
     "execution_count": 23,
     "metadata": {},
     "output_type": "execute_result"
    }
   ],
   "source": [
    "train_x.shape"
   ]
  },
  {
   "cell_type": "markdown",
   "id": "e5b9b15e-feb3-4126-878c-918fe6a0da85",
   "metadata": {},
   "source": [
    "## OpportunityUCIDataset"
   ]
  },
  {
   "cell_type": "code",
   "execution_count": 329,
   "id": "19078f94-226e-4622-8022-45b5b23b4450",
   "metadata": {},
   "outputs": [],
   "source": [
    "n_samples = 46528\n",
    "n_classes = 18\n",
    "window_size = 48\n",
    "n_channels = 77\n",
    "fs = 30"
   ]
  },
  {
   "cell_type": "code",
   "execution_count": 330,
   "id": "fe8a7fd5-184a-4a4d-9471-0a6608561225",
   "metadata": {},
   "outputs": [],
   "source": [
    "OPPORTUNITY_DATA_FILES_TRAIN = [\n",
    "    'datasets/OpportunityUCIDataset/dataset/S1-Drill.dat',\n",
    "    'datasets/OpportunityUCIDataset/dataset/S1-ADL1.dat',\n",
    "    'datasets/OpportunityUCIDataset/dataset/S1-ADL2.dat',\n",
    "    'datasets/OpportunityUCIDataset/dataset/S1-ADL3.dat',\n",
    "    'datasets/OpportunityUCIDataset/dataset/S1-ADL4.dat',\n",
    "    'datasets/OpportunityUCIDataset/dataset/S1-ADL5.dat',\n",
    "    'datasets/OpportunityUCIDataset/dataset/S2-Drill.dat',\n",
    "    'datasets/OpportunityUCIDataset/dataset/S2-ADL1.dat',\n",
    "    'datasets/OpportunityUCIDataset/dataset/S2-ADL2.dat',\n",
    "    'datasets/OpportunityUCIDataset/dataset/S3-Drill.dat',\n",
    "    'datasets/OpportunityUCIDataset/dataset/S3-ADL1.dat',\n",
    "    'datasets/OpportunityUCIDataset/dataset/S3-ADL2.dat',\n",
    "]\n",
    "\n",
    "OPPORTUNITY_DATA_FILES_TEST = [\n",
    "    'datasets/OpportunityUCIDataset/dataset/S2-ADL4.dat',\n",
    "    'datasets/OpportunityUCIDataset/dataset/S2-ADL5.dat',\n",
    "    'datasets/OpportunityUCIDataset/dataset/S3-ADL4.dat',\n",
    "    'datasets/OpportunityUCIDataset/dataset/S3-ADL5.dat'\n",
    "]"
   ]
  },
  {
   "cell_type": "code",
   "execution_count": 331,
   "id": "412c75a2-4b2d-4175-8a9c-bad6167c9b04",
   "metadata": {},
   "outputs": [],
   "source": [
    "def feature_index():\n",
    "    \"\"\"Selection of the 113 columns employed in the OPPORTUNITY challenge\n",
    "    :param data: numpy integer matrix\n",
    "        Sensor data (all features)\n",
    "    :return: numpy integer matrix\n",
    "        Selection of features\n",
    "    \"\"\"\n",
    "\n",
    "    #                     included-excluded\n",
    "    features_delete = np.arange(0, 37)\n",
    "    features_delete = np.concatenate([features_delete, np.arange(46, 50)])\n",
    "    features_delete = np.concatenate([features_delete, np.arange(59, 63)])\n",
    "    features_delete = np.concatenate([features_delete, np.arange(72, 76)])\n",
    "    features_delete = np.concatenate([features_delete, np.arange(85, 89)])\n",
    "    features_delete = np.concatenate([features_delete, np.arange(98, 102)])\n",
    "    return np.delete(np.arange(134), features_delete, 0)\n",
    "    # return features_delete\n",
    "    \n",
    "def select_columns_opp(data):\n",
    "    features = feature_index()\n",
    "    return data[:,features], data[:,249]"
   ]
  },
  {
   "cell_type": "code",
   "execution_count": 332,
   "id": "972f3b0c-2c05-451b-83bd-3aa4430640f7",
   "metadata": {},
   "outputs": [],
   "source": [
    "def feature_index_old():\n",
    "    features_delete = np.arange(46, 50)\n",
    "    features_delete = np.concatenate([features_delete, np.arange(59, 63)])\n",
    "    features_delete = np.concatenate([features_delete, np.arange(72, 76)])\n",
    "    features_delete = np.concatenate([features_delete, np.arange(85, 89)])\n",
    "    features_delete = np.concatenate([features_delete, np.arange(98, 102)])\n",
    "    features_delete = np.concatenate([features_delete, np.arange(134, 243)])\n",
    "    features_delete = np.concatenate([features_delete, np.arange(244, 249)])\n",
    "    features = np.delete(np.arange(250), features_delete)[1:-2]\n",
    "    return features"
   ]
  },
  {
   "cell_type": "code",
   "execution_count": 333,
   "id": "539b28a9-fc3e-4e4d-b74a-cb676e7abbce",
   "metadata": {},
   "outputs": [],
   "source": [
    "feature_index_NORM = []\n",
    "for i, f in enumerate(feature_index_old()):\n",
    "    if f in feature_index():\n",
    "        feature_index_NORM.append(i)\n",
    "feature_index_NORM = np.asarray(feature_index_NORM)"
   ]
  },
  {
   "cell_type": "code",
   "execution_count": 334,
   "id": "9afbd301-0c63-4177-b59f-4fa5013d4bbf",
   "metadata": {},
   "outputs": [
    {
     "data": {
      "text/plain": [
       "array([ 36,  37,  38,  39,  40,  41,  42,  43,  44,  45,  46,  47,  48,\n",
       "        49,  50,  51,  52,  53,  54,  55,  56,  57,  58,  59,  60,  61,\n",
       "        62,  63,  64,  65,  66,  67,  68,  69,  70,  71,  72,  73,  74,\n",
       "        75,  76,  77,  78,  79,  80,  81,  82,  83,  84,  85,  86,  87,\n",
       "        88,  89,  90,  91,  92,  93,  94,  95,  96,  97,  98,  99, 100,\n",
       "       101, 102, 103, 104, 105, 106, 107, 108, 109, 110, 111, 112])"
      ]
     },
     "execution_count": 334,
     "metadata": {},
     "output_type": "execute_result"
    }
   ],
   "source": [
    "feature_index_NORM"
   ]
  },
  {
   "cell_type": "code",
   "execution_count": 335,
   "id": "49facbc8-6dd5-4841-ac6d-b14883b8ec0b",
   "metadata": {},
   "outputs": [],
   "source": [
    "NORM_MAX_THRESHOLDS = np.asarray([\n",
    "    3000,   3000,   3000,   3000,   3000,   3000,   3000,   3000,   3000,\n",
    "    3000,   3000,   3000,   3000,   3000,   3000,   3000,   3000,   3000,\n",
    "    3000,   3000,   3000,   3000,   3000,   3000,   3000,   3000,   3000,\n",
    "    3000,   3000,   3000,   3000,   3000,   3000,   3000,   3000,   3000,\n",
    "    3000,   3000,   3000,   10000,  10000,  10000,  1500,   1500,   1500,\n",
    "    3000,   3000,   3000,   10000,  10000,  10000,  1500,   1500,   1500,\n",
    "    3000,   3000,   3000,   10000,  10000,  10000,  1500,   1500,   1500,\n",
    "    3000,   3000,   3000,   10000,  10000,  10000,  1500,   1500,   1500,\n",
    "    3000,   3000,   3000,   10000,  10000,  10000,  1500,   1500,   1500,\n",
    "    250,    25,     200,    5000,   5000,   5000,   5000,   5000,   5000,\n",
    "    10000,  10000,  10000,  10000,  10000,  10000,  250,    250,    25,\n",
    "    200,    5000,   5000,   5000,   5000,   5000,   5000,   10000,  10000,\n",
    "    10000,  10000,  10000,  10000,  250, \n",
    "])[feature_index_NORM]\n",
    "\n",
    "NORM_MIN_THRESHOLDS = np.asarray([\n",
    "    -3000,  -3000,  -3000,  -3000,  -3000,  -3000,  -3000,  -3000,  -3000,\n",
    "    -3000,  -3000,  -3000,  -3000,  -3000,  -3000,  -3000,  -3000,  -3000,\n",
    "    -3000,  -3000,  -3000,  -3000,  -3000,  -3000,  -3000,  -3000,  -3000,\n",
    "    -3000,  -3000,  -3000,  -3000,  -3000,  -3000,  -3000,  -3000,  -3000,\n",
    "    -3000,  -3000,  -3000,  -10000, -10000, -10000, -1000,  -1000,  -1000,\n",
    "    -3000,  -3000,  -3000,  -10000, -10000, -10000, -1000,  -1000,  -1000,\n",
    "    -3000,  -3000,  -3000,  -10000, -10000, -10000, -1000,  -1000,  -1000,\n",
    "    -3000,  -3000,  -3000,  -10000, -10000, -10000, -1000,  -1000,  -1000,\n",
    "    -3000,  -3000,  -3000,  -10000, -10000, -10000, -1000,  -1000,  -1000,\n",
    "    -250,   -100,   -200,   -5000,  -5000,  -5000,  -5000,  -5000,  -5000,\n",
    "    -10000, -10000, -10000, -10000, -10000, -10000, -250,   -250,   -100,\n",
    "    -200,   -5000,  -5000,  -5000,  -5000,  -5000,  -5000,  -10000, -10000,\n",
    "    -10000, -10000, -10000, -10000, -250, \n",
    "])[feature_index_NORM]"
   ]
  },
  {
   "cell_type": "code",
   "execution_count": 336,
   "id": "ab0180c4-4a00-4867-a520-93371c407d26",
   "metadata": {},
   "outputs": [],
   "source": [
    "def normalize(data, max_list, min_list):\n",
    "    \"\"\"Normalizes all sensor channels\n",
    "    :param data: numpy integer matrix\n",
    "        Sensor data\n",
    "    :param max_list: numpy integer array\n",
    "        Array containing maximums values for every one of the 113 sensor channels\n",
    "    :param min_list: numpy integer array\n",
    "        Array containing minimum values for every one of the 113 sensor channels\n",
    "    :return:\n",
    "        Normalized sensor data\n",
    "    \"\"\"\n",
    "    max_list, min_list = np.array(max_list), np.array(min_list)\n",
    "    diffs = max_list - min_list\n",
    "    for i in np.arange(data.shape[1]):\n",
    "        data[:, i] = (data[:, i]-min_list[i])/diffs[i]\n",
    "    #     Checking the boundaries\n",
    "    data[data > 1] = 0.99\n",
    "    data[data < 0] = 0.00\n",
    "    return data"
   ]
  },
  {
   "cell_type": "code",
   "execution_count": 337,
   "id": "20be43f5-d9c4-4361-adee-60bcce1bc601",
   "metadata": {},
   "outputs": [],
   "source": [
    "def divide_x_y(data, label):\n",
    "    \"\"\"Segments each sample into features and label\n",
    "    :param data: numpy integer matrix\n",
    "        Sensor data\n",
    "    :param label: string, ['gestures' (default), 'locomotion']\n",
    "        Type of activities to be recognized\n",
    "    :return: numpy integer matrix, numpy integer array\n",
    "        Features encapsulated into a matrix and labels as an array\n",
    "    \"\"\"\n",
    "    data_x, data_y = data\n",
    "    return data_x, data_y"
   ]
  },
  {
   "cell_type": "code",
   "execution_count": 338,
   "id": "9a242e69-8bb2-454f-a4b8-978666e8defc",
   "metadata": {},
   "outputs": [],
   "source": [
    "def adjust_idx_labels(data_y, label):\n",
    "    \"\"\"Transforms original labels into the range [0, nb_labels-1]\n",
    "    :param data_y: numpy integer array\n",
    "        Sensor labels\n",
    "    :param label: string, ['gestures' (default), 'locomotion']\n",
    "        Type of activities to be recognized\n",
    "    :return: numpy integer array\n",
    "        Modified sensor labels\n",
    "    \"\"\"\n",
    "\n",
    "    if label == 'locomotion':  # Labels for locomotion are adjusted\n",
    "        data_y[data_y == 4] = 3\n",
    "        data_y[data_y == 5] = 4\n",
    "    elif label == 'gestures':  # Labels for gestures are adjusted\n",
    "        data_y[data_y == 406516] = 1\n",
    "        data_y[data_y == 406517] = 2\n",
    "        data_y[data_y == 404516] = 3\n",
    "        data_y[data_y == 404517] = 4\n",
    "        data_y[data_y == 406520] = 5\n",
    "        data_y[data_y == 404520] = 6\n",
    "        data_y[data_y == 406505] = 7\n",
    "        data_y[data_y == 404505] = 8\n",
    "        data_y[data_y == 406519] = 9\n",
    "        data_y[data_y == 404519] = 10\n",
    "        data_y[data_y == 406511] = 11\n",
    "        data_y[data_y == 404511] = 12\n",
    "        data_y[data_y == 406508] = 13\n",
    "        data_y[data_y == 404508] = 14\n",
    "        data_y[data_y == 408512] = 15\n",
    "        data_y[data_y == 407521] = 16\n",
    "        data_y[data_y == 405506] = 17\n",
    "    return data_y"
   ]
  },
  {
   "cell_type": "code",
   "execution_count": 339,
   "id": "0e389c8c-d789-41ab-87b6-e35db81309d3",
   "metadata": {},
   "outputs": [],
   "source": [
    "def check_data(data_set):\n",
    "    \"\"\"Try to access to the file and checks if dataset is in the data directory\n",
    "       In case the file is not found try to download it from original location\n",
    "    :param data_set:\n",
    "            Path with original OPPORTUNITY zip file\n",
    "    :return:\n",
    "    \"\"\"\n",
    "    print('Checking dataset {0}'.format(data_set))\n",
    "    data_dir, data_file = os.path.split(data_set)\n",
    "    # When a directory is not provided, check if dataset is in the data directory\n",
    "    if data_dir == \"\" and not os.path.isfile(data_set):\n",
    "        new_path = os.path.join(os.path.split(__file__)[0], \"data\", data_set)\n",
    "        if os.path.isfile(new_path) or data_file == 'OpportunityUCIDataset.zip':\n",
    "            data_set = new_path\n",
    "\n",
    "    # When dataset not found, try to download it from UCI repository\n",
    "    if (not os.path.isfile(data_set)) and data_file == 'OpportunityUCIDataset.zip':\n",
    "        print('... dataset path {0} not found'.format(data_set))\n",
    "        import urllib\n",
    "        origin = (\n",
    "            'https://archive.ics.uci.edu/ml/machine-learning-databases/00226/OpportunityUCIDataset.zip'\n",
    "        )\n",
    "        if not os.path.exists(data_dir):\n",
    "            print('... creating directory {0}'.format(data_dir))\n",
    "            os.makedirs(data_dir)\n",
    "        print('... downloading data from {0}'.format(origin))\n",
    "        urllib.urlretrieve(origin, data_set)\n",
    "\n",
    "    return data_dir"
   ]
  },
  {
   "cell_type": "code",
   "execution_count": 340,
   "id": "32b9cc1a-08fe-4019-8179-69dcd0381f47",
   "metadata": {},
   "outputs": [],
   "source": [
    "def process_dataset_file(data, label):\n",
    "    \"\"\"Function defined as a pipeline to process individual OPPORTUNITY files\n",
    "    :param data: numpy integer matrix\n",
    "        Matrix containing data samples (rows) for every sensor channel (column)\n",
    "    :param label: string, ['gestures' (default), 'locomotion']\n",
    "        Type of activities to be recognized\n",
    "    :return: numpy integer matrix, numy integer array\n",
    "        Processed sensor data, segmented into features (x) and labels (y)\n",
    "    \"\"\"\n",
    "\n",
    "    # Select correct columns\n",
    "    data = select_columns_opp(data)\n",
    "\n",
    "    # Colums are segmentd into features and labels\n",
    "    data_x, data_y =  divide_x_y(data, label)\n",
    "    data_y = adjust_idx_labels(data_y, label)\n",
    "    data_y = data_y.astype(int)\n",
    "\n",
    "    # Perform linear interpolation\n",
    "    data_x = np.array([pd.Series(i).interpolate() for i in data_x.T]).T\n",
    "\n",
    "    # Remaining missing data are converted to zero\n",
    "    data_x[np.isnan(data_x)] = 0\n",
    "\n",
    "    # All sensor channels are normalized\n",
    "    data_x = normalize(data_x, NORM_MAX_THRESHOLDS, NORM_MIN_THRESHOLDS)\n",
    "\n",
    "    return data_x, data_y"
   ]
  },
  {
   "cell_type": "code",
   "execution_count": 341,
   "id": "762958da-3dbf-462a-8b51-96dfbd97b47a",
   "metadata": {},
   "outputs": [],
   "source": [
    "def generate_data(dataset, target_filename, label):\n",
    "    \"\"\"Function to read the OPPORTUNITY challenge raw data and process all sensor channels\n",
    "    :param dataset: string\n",
    "        Path with original OPPORTUNITY zip file\n",
    "    :param target_filename: string\n",
    "        Processed file\n",
    "    :param label: string, ['gestures' (default), 'locomotion']\n",
    "        Type of activities to be recognized. The OPPORTUNITY dataset includes several annotations to perform\n",
    "        recognition modes of locomotion/postures and recognition of sporadic gestures.\n",
    "    \"\"\"\n",
    "\n",
    "    data_dir = check_data(dataset)\n",
    "\n",
    "    data_x = np.empty((0, NB_SENSOR_CHANNELS))\n",
    "    data_y = np.empty((0))\n",
    "\n",
    "    zf = zipfile.ZipFile(dataset)\n",
    "    print('Processing dataset files ...')\n",
    "    for filename in OPPORTUNITY_DATA_FILES:\n",
    "        try:\n",
    "            data = np.loadtxt(BytesIO(zf.read(filename)))\n",
    "            print('... file {0}'.format(filename))\n",
    "            x, y = process_dataset_file(data, label)\n",
    "            data_x = np.vstack((data_x, x))\n",
    "            data_y = np.concatenate([data_y, y])\n",
    "        except KeyError:\n",
    "            print('ERROR: Did not find {0} in zip file'.format(filename))\n",
    "\n",
    "    # Dataset is segmented into train and test\n",
    "    nb_training_samples = 557963\n",
    "    # The first 18 OPPORTUNITY data files define the traning dataset, comprising 557963 samples\n",
    "    X_train, y_train = data_x[:nb_training_samples,:], data_y[:nb_training_samples]\n",
    "    X_test, y_test = data_x[nb_training_samples:,:], data_y[nb_training_samples:]\n",
    "\n",
    "    print(\"Final datasets with size: | train {0} | test {1} | \".format(X_train.shape,X_test.shape))\n",
    "\n",
    "    obj = [(X_train, y_train), (X_test, y_test)]\n",
    "    f = file(os.path.join(data_dir, target_filename), 'wb')\n",
    "    cp.dump(obj, f, protocol=cp.HIGHEST_PROTOCOL)\n",
    "    f.close()"
   ]
  },
  {
   "cell_type": "code",
   "execution_count": 342,
   "id": "4eec36ab-9b47-4e45-a928-9529404a989e",
   "metadata": {},
   "outputs": [],
   "source": [
    "import datasets.DeepConvLSTM.sliding_window\n",
    "importlib.reload(datasets.DeepConvLSTM.sliding_window)\n",
    "\n",
    "def opp_sliding_window(data_x, data_y, ws, ss):\n",
    "    data_x = datasets.DeepConvLSTM.sliding_window.sliding_window(data_x,(ws,data_x.shape[1]),(ss,1))\n",
    "    data_y = np.asarray([[i[-1]] for i in datasets.DeepConvLSTM.sliding_window.sliding_window(data_y,ws,ss)])\n",
    "    return data_x.astype(np.float32), data_y.reshape(len(data_y)).astype(np.uint8)"
   ]
  },
  {
   "cell_type": "code",
   "execution_count": 343,
   "id": "07aaff62-3123-44ba-82e7-8c9d5f215cdb",
   "metadata": {},
   "outputs": [
    {
     "name": "stderr",
     "output_type": "stream",
     "text": [
      "100%|██████████| 12/12 [00:08<00:00,  1.43it/s]"
     ]
    },
    {
     "name": "stdout",
     "output_type": "stream",
     "text": [
      "train_x (41375, 77, 48)\n",
      "train_y (41375,)\n"
     ]
    },
    {
     "name": "stderr",
     "output_type": "stream",
     "text": [
      "\n"
     ]
    }
   ],
   "source": [
    "data_xs, data_ys = [], []\n",
    "\n",
    "for data_path in tqdm(OPPORTUNITY_DATA_FILES_TRAIN):\n",
    "    data =  pd.read_csv(data_path, sep=\" \", header = None)\n",
    "    x, y = process_dataset_file(data.values, 'gestures')\n",
    "    data_x, data_y = opp_sliding_window(x, y, ws=48, ss=12)\n",
    "    data_xs.append(data_x)\n",
    "    data_ys.append(data_y)\n",
    "    # print(data_y)\n",
    "\n",
    "train_x = np.concatenate(data_xs, axis=0)\n",
    "train_x = einops.rearrange(train_x, 'e t c -> e c t')\n",
    "train_y = np.concatenate(data_ys, axis=0)\n",
    "print('train_x', train_x.shape)\n",
    "print('train_y', train_y.shape)"
   ]
  },
  {
   "cell_type": "code",
   "execution_count": 346,
   "id": "689fc29d-f933-4ef4-b855-c5afc9c9ad67",
   "metadata": {},
   "outputs": [
    {
     "data": {
      "text/plain": [
       "array([ 0,  1,  2,  3,  4,  5,  6,  7,  8,  9, 10, 11, 12, 13, 14, 15, 16,\n",
       "       17], dtype=uint8)"
      ]
     },
     "execution_count": 346,
     "metadata": {},
     "output_type": "execute_result"
    }
   ],
   "source": [
    "np.unique(train_y)"
   ]
  },
  {
   "cell_type": "code",
   "execution_count": 347,
   "id": "f2f076ba-fbe2-43e0-9877-73063b736ec4",
   "metadata": {},
   "outputs": [],
   "source": [
    "path_save = f'datasets/OPPOR/'\n",
    "np.save(path_save + 'train_x.npy', train_x)\n",
    "np.save(path_save + 'train_y.npy', train_y)"
   ]
  },
  {
   "cell_type": "code",
   "execution_count": 348,
   "id": "f5193a6c-5e7b-4b13-8321-6cf3b602fb36",
   "metadata": {},
   "outputs": [
    {
     "name": "stderr",
     "output_type": "stream",
     "text": [
      "100%|██████████| 4/4 [00:02<00:00,  1.90it/s]"
     ]
    },
    {
     "name": "stdout",
     "output_type": "stream",
     "text": [
      "test_x (9882, 77, 48)\n",
      "test_y (9882,)\n"
     ]
    },
    {
     "name": "stderr",
     "output_type": "stream",
     "text": [
      "\n"
     ]
    }
   ],
   "source": [
    "data_xs, data_ys = [], []\n",
    "\n",
    "for data_path in tqdm(OPPORTUNITY_DATA_FILES_TEST):\n",
    "    data =  pd.read_csv(data_path, sep=\" \", header = None)\n",
    "    x, y = process_dataset_file(data.values, 'gestures')\n",
    "    data_x, data_y = opp_sliding_window(x, y, ws=48, ss=12)\n",
    "    data_xs.append(data_x)\n",
    "    data_ys.append(data_y)\n",
    "    # print(data_y)\n",
    "\n",
    "test_x = np.concatenate(data_xs, axis=0)\n",
    "test_x = einops.rearrange(test_x, 'e t c -> e c t')\n",
    "test_y = np.concatenate(data_ys, axis=0)\n",
    "print('test_x', test_x.shape)\n",
    "print('test_y', test_y.shape)"
   ]
  },
  {
   "cell_type": "code",
   "execution_count": 349,
   "id": "7ed79ff2-9cd7-446f-b95f-3ef0424386f6",
   "metadata": {},
   "outputs": [],
   "source": [
    "path_save = f'datasets/OPPOR/'\n",
    "np.save(path_save + 'test_x.npy', test_x)\n",
    "np.save(path_save + 'test_y.npy', test_y)"
   ]
  },
  {
   "cell_type": "markdown",
   "id": "cf54171e-f32c-47a8-8bdb-0d325a23c00f",
   "metadata": {},
   "source": [
    "## NinaPro"
   ]
  },
  {
   "cell_type": "code",
   "execution_count": 2,
   "id": "6a22d2bd-19de-4731-bf86-8bcd6703a775",
   "metadata": {},
   "outputs": [
    {
     "name": "stdout",
     "output_type": "stream",
     "text": [
      "CPU times: user 2 µs, sys: 0 ns, total: 2 µs\n",
      "Wall time: 5.25 µs\n"
     ]
    }
   ],
   "source": [
    "%%time\n",
    "data_path = 'datasets/Ninapro_DB1.csv'"
   ]
  },
  {
   "cell_type": "code",
   "execution_count": 5,
   "id": "9cb9c342-24e4-466d-9d4d-4c529e70b932",
   "metadata": {},
   "outputs": [
    {
     "name": "stdout",
     "output_type": "stream",
     "text": [
      "CPU times: user 1min 6s, sys: 4.45 s, total: 1min 11s\n",
      "Wall time: 2min 55s\n"
     ]
    }
   ],
   "source": [
    "%%time\n",
    "df_ninapro = pd.read_csv(data_path, sep=\",\")"
   ]
  },
  {
   "cell_type": "code",
   "execution_count": 6,
   "id": "d7973516-3d31-47cb-9920-e941c7225e29",
   "metadata": {},
   "outputs": [
    {
     "data": {
      "image/png": "[encoded data removed]",
      "text/plain": [
       "<Figure size 640x480 with 1 Axes>"
      ]
     },
     "metadata": {},
     "output_type": "display_data"
    }
   ],
   "source": [
    "plt.plot(df_ninapro['stimulus'][1000:2000], label='stimulus')\n",
    "plt.plot(df_ninapro['restimulus'][1000:2000], label='restimulus')\n",
    "plt.plot(df_ninapro['repetition'][1000:2000], label='repetition')\n",
    "plt.plot(df_ninapro['rerepetition'][1000:2000], label='rerepetition')\n",
    "plt.legend()\n",
    "plt.show()"
   ]
  },
  {
   "cell_type": "code",
   "execution_count": 7,
   "id": "0ecfddab-4870-45f8-8520-3184702668a3",
   "metadata": {},
   "outputs": [],
   "source": [
    "df_ninapro_work = df_ninapro.copy()\n",
    "df_ninapro_work['y'] = 0\n",
    "df_ninapro_work.loc[df_ninapro_work['exercise']==1, 'y'] = df_ninapro_work[df_ninapro_work['exercise']==1]['stimulus']\n",
    "df_ninapro_work.loc[df_ninapro_work['exercise']==2, 'y'] = df_ninapro_work[df_ninapro_work['exercise']==2]['stimulus'] + 12\n",
    "df_ninapro_work.loc[df_ninapro_work['exercise']==3, 'y'] = df_ninapro_work[df_ninapro_work['exercise']==3]['stimulus'] + 29\n",
    "df_ninapro_work = df_ninapro_work[[f'emg_{i}' for i in range(10)] + ['rerepetition', 'y']]\n",
    "ninapro_x = df_ninapro_work[[f'emg_{i}' for i in range(10)]].values\n",
    "ninapro_rerepetition = df_ninapro_work['rerepetition'].values\n",
    "ninapro_y = df_ninapro_work['y'].values"
   ]
  },
  {
   "cell_type": "code",
   "execution_count": 8,
   "id": "92b126b4-2f94-46d4-9029-45fb5d3ecc57",
   "metadata": {},
   "outputs": [],
   "source": [
    "rerepetition_diff = np.diff(np.concatenate([[0], ninapro_rerepetition]))\n",
    "rerepetition_starts = np.where(rerepetition_diff > 0)[0]\n",
    "rerepetition_stops = np.where(rerepetition_diff < 0)[0]\n",
    "rerepetition_index = np.stack([rerepetition_starts, rerepetition_stops]).T"
   ]
  },
  {
   "cell_type": "code",
   "execution_count": 9,
   "id": "166ca8f7-184b-4518-9bef-c6655ead4077",
   "metadata": {},
   "outputs": [],
   "source": [
    "train_subjects = [1, 3, 4, 6, 7, 8, 9]\n",
    "test_subjects = [2, 5, 10]\n",
    "window = 160\n",
    "step = 10"
   ]
  },
  {
   "cell_type": "code",
   "execution_count": 10,
   "id": "bcf96150-d160-42fe-a3e1-fa56971d4bc7",
   "metadata": {},
   "outputs": [
    {
     "name": "stderr",
     "output_type": "stream",
     "text": [
      "100%|██████████| 14040/14040 [00:00<00:00, 92950.18it/s]\n"
     ]
    }
   ],
   "source": [
    "train_x, train_y = [], []\n",
    "test_x, test_y = [], []\n",
    "for i in tqdm(range(rerepetition_index.shape[0])):\n",
    "    block_index_starts, block_index_stop = rerepetition_index[i,0], rerepetition_index[i,1]\n",
    "    block = ninapro_x[block_index_starts:block_index_stop]\n",
    "    index = ninapro_rerepetition[block_index_starts]\n",
    "    y = ninapro_y[block_index_starts]\n",
    "    for i in range(0, block.shape[0]-window+1, window // 2):\n",
    "        x = block[i:i+window]\n",
    "        if index in train_subjects:\n",
    "            train_x.append(x)\n",
    "            train_y.append(y)\n",
    "        elif index in test_subjects:\n",
    "            test_x.append(x)\n",
    "            test_y.append(y)\n",
    "        else:\n",
    "            print(index)\n",
    "train_x = np.stack(train_x)\n",
    "train_x = einops.rearrange(train_x, 's t c -> s c t')\n",
    "train_y = np.asarray(train_y) - 1\n",
    "test_x = np.stack(test_x)\n",
    "test_x = einops.rearrange(test_x, 's t c -> s c t')\n",
    "test_y = np.asarray(test_y) - 1"
   ]
  },
  {
   "cell_type": "code",
   "execution_count": 11,
   "id": "e4049f68-3edd-4747-8c33-fd196ed54829",
   "metadata": {},
   "outputs": [
    {
     "data": {
      "text/plain": [
       "(31300, 10, 160)"
      ]
     },
     "execution_count": 11,
     "metadata": {},
     "output_type": "execute_result"
    }
   ],
   "source": [
    "train_x.shape"
   ]
  },
  {
   "cell_type": "code",
   "execution_count": 12,
   "id": "4d952b47-a746-499e-bf9e-75da985314c0",
   "metadata": {},
   "outputs": [],
   "source": [
    "path_save = 'datasets/NinaPro/'\n",
    "np.save(path_save + 'train_x.npy', train_x)\n",
    "np.save(path_save + 'train_y.npy', train_y)\n",
    "np.save(path_save + 'test_x.npy', test_x)\n",
    "np.save(path_save + 'test_y.npy', test_y)"
   ]
  },
  {
   "cell_type": "code",
   "execution_count": 13,
   "id": "d40c1d2d-9d82-4831-9e4c-bec7e665c2e6",
   "metadata": {},
   "outputs": [],
   "source": [
    "del train_x, train_y, test_x, test_y"
   ]
  },
  {
   "cell_type": "code",
   "execution_count": 14,
   "id": "8bfb4eb8-d844-4f5b-ba27-8e12c5b3c200",
   "metadata": {},
   "outputs": [],
   "source": [
    "# b, a = sg.butter(1, 1 / (fs_semg / 2), btype='low', output='ba')\n",
    "# semgf = sg.filtfilt(b, a, semg, axis=0)"
   ]
  },
  {
   "cell_type": "markdown",
   "id": "4ae80cee-7791-424d-88bf-d4a9232c074b",
   "metadata": {},
   "source": [
    "## BCICIV2a"
   ]
  },
  {
   "cell_type": "code",
   "execution_count": 6,
   "id": "91474930-dc23-4a4c-ae48-ced4897acc59",
   "metadata": {},
   "outputs": [],
   "source": [
    "class MotorImageryDataset:\n",
    "    def __init__(self, dataset='A01T.npz'):\n",
    "        if not dataset.endswith('.npz'):\n",
    "            dataset += '.npz'\n",
    "\n",
    "        self.data = np.load(dataset)\n",
    "\n",
    "        self.Fs = 250  # 250Hz from original paper\n",
    "\n",
    "        # keys of data ['s', 'etyp', 'epos', 'edur', 'artifacts']\n",
    "        self.raw = self.data['s'].T\n",
    "        self.events_type = self.data['etyp'].T\n",
    "        self.events_position = self.data['epos'].T\n",
    "        self.events_duration = self.data['edur'].T\n",
    "        self.artifacts = self.data['artifacts'].T\n",
    "\n",
    "        # Types of motor imagery\n",
    "        self.mi_types = {769: 'left', 770: 'right',\n",
    "                         771: 'foot', 772: 'tongue', 783: 'unknown'}\n",
    "\n",
    "    def get_trials(self):\n",
    "\n",
    "        # Channel default is C3\n",
    "        startrial_code = 768\n",
    "        \n",
    "        start_trial_events = self.events_type == startrial_code\n",
    "        idxs = np.where(start_trial_events[0])[0]\n",
    "\n",
    "        trials = []\n",
    "        classes = []\n",
    "        class_index = {\n",
    "            'left':0,\n",
    "            'right':1,\n",
    "            'foot':2,\n",
    "            'tongue':3,\n",
    "            'unknown':4\n",
    "        }\n",
    "        \n",
    "\n",
    "        for index in idxs:\n",
    "            try:\n",
    "                type_e = self.events_type[0, index+1]\n",
    "                class_e = self.mi_types[type_e]\n",
    "                classes.append(class_index[class_e])\n",
    "\n",
    "                start = self.events_position[0, index]\n",
    "                stop = start + self.events_duration[0, index]\n",
    "                trial = self.raw[:,start:stop]\n",
    "                trials.append(trial)\n",
    "            except:\n",
    "                continue\n",
    "                \n",
    "        trials = np.stack(trials)\n",
    "        classes = np.asarray(classes)\n",
    "        return trials, classes"
   ]
  },
  {
   "cell_type": "code",
   "execution_count": 7,
   "id": "e9b721b9-b229-488f-90d8-81321c7a1e68",
   "metadata": {},
   "outputs": [
    {
     "name": "stderr",
     "output_type": "stream",
     "text": [
      "100%|██████████| 9/9 [00:09<00:00,  1.06s/it]\n"
     ]
    }
   ],
   "source": [
    "Xs, Ys = [], []\n",
    "window = 384\n",
    "\n",
    "for i in tqdm(range(1,10)):\n",
    "    dataset_T = MotorImageryDataset(f'datasets/bcidatasetIV2a/A0{i}T.npz')\n",
    "    dataset_E = MotorImageryDataset(f'datasets/bcidatasetIV2a/A0{i}E.npz')\n",
    "    XT, YT = dataset_T.get_trials()\n",
    "    XE, YE = dataset_T.get_trials()\n",
    "    X = np.concatenate([XT, XE], axis=0)[:,:22,:]\n",
    "    XX = []\n",
    "    for i in range(0, 1875-window+1, 50):\n",
    "        XX.append(X[:,:,i:i+window])\n",
    "    XX = np.stack(XX)\n",
    "    XX = einops.rearrange(XX, 's e c t -> (e s) c t')\n",
    "    \n",
    "    Y = np.concatenate([YT, YE], axis=0)\n",
    "    YY = np.repeat(Y, 30).reshape((-1, 30)).T\n",
    "    YY = einops.rearrange(YY, 's e -> (e s)')\n",
    "    \n",
    "    Xs.append(XX)\n",
    "    Ys.append(YY)"
   ]
  },
  {
   "cell_type": "code",
   "execution_count": 8,
   "id": "8444dab3-2c14-490b-ac2c-952f37d851bc",
   "metadata": {},
   "outputs": [
    {
     "name": "stderr",
     "output_type": "stream",
     "text": [
      " 11%|█         | 1/9 [00:09<01:15,  9.48s/it]"
     ]
    },
    {
     "name": "stdout",
     "output_type": "stream",
     "text": [
      "train_x (123300, 22, 384) train_y (123300,) test_x (16380, 22, 384) test_y (16380,)\n"
     ]
    },
    {
     "name": "stderr",
     "output_type": "stream",
     "text": [
      " 22%|██▏       | 2/9 [00:31<01:57, 16.76s/it]"
     ]
    },
    {
     "name": "stdout",
     "output_type": "stream",
     "text": [
      "train_x (123480, 22, 384) train_y (123480,) test_x (16200, 22, 384) test_y (16200,)\n"
     ]
    },
    {
     "name": "stderr",
     "output_type": "stream",
     "text": [
      " 33%|███▎      | 3/9 [00:52<01:53, 18.88s/it]"
     ]
    },
    {
     "name": "stdout",
     "output_type": "stream",
     "text": [
      "train_x (123480, 22, 384) train_y (123480,) test_x (16200, 22, 384) test_y (16200,)\n"
     ]
    },
    {
     "name": "stderr",
     "output_type": "stream",
     "text": [
      " 44%|████▍     | 4/9 [01:14<01:39, 19.93s/it]"
     ]
    },
    {
     "name": "stdout",
     "output_type": "stream",
     "text": [
      "train_x (123960, 22, 384) train_y (123960,) test_x (15720, 22, 384) test_y (15720,)\n"
     ]
    },
    {
     "name": "stderr",
     "output_type": "stream",
     "text": [
      " 56%|█████▌    | 5/9 [01:36<01:22, 20.61s/it]"
     ]
    },
    {
     "name": "stdout",
     "output_type": "stream",
     "text": [
      "train_x (123960, 22, 384) train_y (123960,) test_x (15720, 22, 384) test_y (15720,)\n"
     ]
    },
    {
     "name": "stderr",
     "output_type": "stream",
     "text": [
      " 67%|██████▋   | 6/9 [01:57<01:03, 21.01s/it]"
     ]
    },
    {
     "name": "stdout",
     "output_type": "stream",
     "text": [
      "train_x (126540, 22, 384) train_y (126540,) test_x (13140, 22, 384) test_y (13140,)\n"
     ]
    },
    {
     "name": "stderr",
     "output_type": "stream",
     "text": [
      " 78%|███████▊  | 7/9 [02:19<00:42, 21.18s/it]"
     ]
    },
    {
     "name": "stdout",
     "output_type": "stream",
     "text": [
      "train_x (123420, 22, 384) train_y (123420,) test_x (16260, 22, 384) test_y (16260,)\n"
     ]
    },
    {
     "name": "stderr",
     "output_type": "stream",
     "text": [
      " 89%|████████▉ | 8/9 [02:40<00:21, 21.28s/it]"
     ]
    },
    {
     "name": "stdout",
     "output_type": "stream",
     "text": [
      "train_x (123840, 22, 384) train_y (123840,) test_x (15840, 22, 384) test_y (15840,)\n"
     ]
    },
    {
     "name": "stderr",
     "output_type": "stream",
     "text": [
      "100%|██████████| 9/9 [03:06<00:00, 20.76s/it]"
     ]
    },
    {
     "name": "stdout",
     "output_type": "stream",
     "text": [
      "train_x (125460, 22, 384) train_y (125460,) test_x (14220, 22, 384) test_y (14220,)\n"
     ]
    },
    {
     "name": "stderr",
     "output_type": "stream",
     "text": [
      "\n"
     ]
    }
   ],
   "source": [
    "for i in tqdm(range(9)):\n",
    "    path_save = f'datasets/BCICIV2a/subject_left_{i}/'\n",
    "    os.makedirs(path_save, exist_ok=True)\n",
    "\n",
    "    test_x, test_y = Xs[i], Ys[i]\n",
    "    train_x, train_y = [], []\n",
    "    for j in range(9):\n",
    "        if i!=j:\n",
    "            train_x.append(Xs[j])\n",
    "            train_y.append(Ys[j])\n",
    "    train_x = np.concatenate(train_x, axis=0)\n",
    "    train_y = np.concatenate(train_y, axis=0)\n",
    "    np.save(path_save + 'train_x.npy', train_x)\n",
    "    np.save(path_save + 'train_y.npy', train_y)\n",
    "    np.save(path_save + 'test_x.npy', test_x)\n",
    "    np.save(path_save + 'test_y.npy', test_y)\n",
    "    print('train_x', train_x.shape, 'train_y', train_y.shape, 'test_x', test_x.shape, 'test_y', test_y.shape)"
   ]
  },
  {
   "cell_type": "code",
   "execution_count": 4,
   "id": "cf48ad2e-c40c-49a5-a09f-6654a8c0c1b7",
   "metadata": {},
   "outputs": [
    {
     "data": {
      "text/plain": [
       "384"
      ]
     },
     "execution_count": 4,
     "metadata": {},
     "output_type": "execute_result"
    }
   ],
   "source": [
    "24 * 2 * 2 * 2 * 2"
   ]
  },
  {
   "cell_type": "code",
   "execution_count": null,
   "id": "c218c0f9-3595-416f-86c4-2d7c889bbe03",
   "metadata": {},
   "outputs": [],
   "source": []
  }
 ],
 "metadata": {
  "kernelspec": {
   "display_name": "Python 3 (ipykernel)",
   "language": "python",
   "name": "python3"
  },
  "language_info": {
   "codemirror_mode": {
    "name": "ipython",
    "version": 3
   },
   "file_extension": ".py",
   "mimetype": "text/x-python",
   "name": "python",
   "nbconvert_exporter": "python",
   "pygments_lexer": "ipython3",
   "version": "3.10.8"
  }
 },
 "nbformat": 4,
 "nbformat_minor": 5
}
